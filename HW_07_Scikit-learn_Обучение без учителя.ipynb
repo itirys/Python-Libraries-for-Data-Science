{
 "cells": [
  {
   "cell_type": "markdown",
   "id": "95ec4b64",
   "metadata": {},
   "source": [
    "### Задание 1\n",
    "\n",
    "Импортируйте библиотеки pandas, numpy и matplotlib."
   ]
  },
  {
   "cell_type": "code",
   "execution_count": 68,
   "id": "abc2d0f2",
   "metadata": {},
   "outputs": [],
   "source": [
    "import numpy as np\n",
    "import pandas as pd\n",
    "import matplotlib\n",
    "import matplotlib.image as img\n",
    "import matplotlib.pyplot as plt\n",
    "import seaborn as sns\n",
    "from scipy import stats\n",
    "%matplotlib inline\n",
    "\n",
    "import warnings\n",
    "warnings.filterwarnings('ignore')\n",
    "\n",
    "matplotlib.rcParams.update({'font.size': 14})"
   ]
  },
  {
   "cell_type": "markdown",
   "id": "aec50ac3",
   "metadata": {},
   "source": [
    "Загрузите \"Boston House Prices dataset\" из встроенных наборов \n",
    "данных библиотеки sklearn."
   ]
  },
  {
   "cell_type": "code",
   "execution_count": 69,
   "id": "622d5078",
   "metadata": {},
   "outputs": [],
   "source": [
    "from sklearn.datasets import load_boston\n",
    "boston = load_boston()"
   ]
  },
  {
   "cell_type": "markdown",
   "id": "6dd390bb",
   "metadata": {},
   "source": [
    "Создайте датафреймы X и y из этих данных."
   ]
  },
  {
   "cell_type": "code",
   "execution_count": 70,
   "id": "5d1a2f9a",
   "metadata": {},
   "outputs": [
    {
     "data": {
      "text/html": [
       "<div>\n",
       "<style scoped>\n",
       "    .dataframe tbody tr th:only-of-type {\n",
       "        vertical-align: middle;\n",
       "    }\n",
       "\n",
       "    .dataframe tbody tr th {\n",
       "        vertical-align: top;\n",
       "    }\n",
       "\n",
       "    .dataframe thead th {\n",
       "        text-align: right;\n",
       "    }\n",
       "</style>\n",
       "<table border=\"1\" class=\"dataframe\">\n",
       "  <thead>\n",
       "    <tr style=\"text-align: right;\">\n",
       "      <th></th>\n",
       "      <th>CRIM</th>\n",
       "      <th>ZN</th>\n",
       "      <th>INDUS</th>\n",
       "      <th>CHAS</th>\n",
       "      <th>NOX</th>\n",
       "      <th>RM</th>\n",
       "      <th>AGE</th>\n",
       "      <th>DIS</th>\n",
       "      <th>RAD</th>\n",
       "      <th>TAX</th>\n",
       "      <th>PTRATIO</th>\n",
       "      <th>B</th>\n",
       "      <th>LSTAT</th>\n",
       "    </tr>\n",
       "  </thead>\n",
       "  <tbody>\n",
       "    <tr>\n",
       "      <th>0</th>\n",
       "      <td>0.00632</td>\n",
       "      <td>18.0</td>\n",
       "      <td>2.31</td>\n",
       "      <td>0.0</td>\n",
       "      <td>0.538</td>\n",
       "      <td>6.575</td>\n",
       "      <td>65.2</td>\n",
       "      <td>4.0900</td>\n",
       "      <td>1.0</td>\n",
       "      <td>296.0</td>\n",
       "      <td>15.3</td>\n",
       "      <td>396.90</td>\n",
       "      <td>4.98</td>\n",
       "    </tr>\n",
       "    <tr>\n",
       "      <th>1</th>\n",
       "      <td>0.02731</td>\n",
       "      <td>0.0</td>\n",
       "      <td>7.07</td>\n",
       "      <td>0.0</td>\n",
       "      <td>0.469</td>\n",
       "      <td>6.421</td>\n",
       "      <td>78.9</td>\n",
       "      <td>4.9671</td>\n",
       "      <td>2.0</td>\n",
       "      <td>242.0</td>\n",
       "      <td>17.8</td>\n",
       "      <td>396.90</td>\n",
       "      <td>9.14</td>\n",
       "    </tr>\n",
       "    <tr>\n",
       "      <th>2</th>\n",
       "      <td>0.02729</td>\n",
       "      <td>0.0</td>\n",
       "      <td>7.07</td>\n",
       "      <td>0.0</td>\n",
       "      <td>0.469</td>\n",
       "      <td>7.185</td>\n",
       "      <td>61.1</td>\n",
       "      <td>4.9671</td>\n",
       "      <td>2.0</td>\n",
       "      <td>242.0</td>\n",
       "      <td>17.8</td>\n",
       "      <td>392.83</td>\n",
       "      <td>4.03</td>\n",
       "    </tr>\n",
       "    <tr>\n",
       "      <th>3</th>\n",
       "      <td>0.03237</td>\n",
       "      <td>0.0</td>\n",
       "      <td>2.18</td>\n",
       "      <td>0.0</td>\n",
       "      <td>0.458</td>\n",
       "      <td>6.998</td>\n",
       "      <td>45.8</td>\n",
       "      <td>6.0622</td>\n",
       "      <td>3.0</td>\n",
       "      <td>222.0</td>\n",
       "      <td>18.7</td>\n",
       "      <td>394.63</td>\n",
       "      <td>2.94</td>\n",
       "    </tr>\n",
       "    <tr>\n",
       "      <th>4</th>\n",
       "      <td>0.06905</td>\n",
       "      <td>0.0</td>\n",
       "      <td>2.18</td>\n",
       "      <td>0.0</td>\n",
       "      <td>0.458</td>\n",
       "      <td>7.147</td>\n",
       "      <td>54.2</td>\n",
       "      <td>6.0622</td>\n",
       "      <td>3.0</td>\n",
       "      <td>222.0</td>\n",
       "      <td>18.7</td>\n",
       "      <td>396.90</td>\n",
       "      <td>5.33</td>\n",
       "    </tr>\n",
       "  </tbody>\n",
       "</table>\n",
       "</div>"
      ],
      "text/plain": [
       "      CRIM    ZN  INDUS  CHAS    NOX     RM   AGE     DIS  RAD    TAX  \\\n",
       "0  0.00632  18.0   2.31   0.0  0.538  6.575  65.2  4.0900  1.0  296.0   \n",
       "1  0.02731   0.0   7.07   0.0  0.469  6.421  78.9  4.9671  2.0  242.0   \n",
       "2  0.02729   0.0   7.07   0.0  0.469  7.185  61.1  4.9671  2.0  242.0   \n",
       "3  0.03237   0.0   2.18   0.0  0.458  6.998  45.8  6.0622  3.0  222.0   \n",
       "4  0.06905   0.0   2.18   0.0  0.458  7.147  54.2  6.0622  3.0  222.0   \n",
       "\n",
       "   PTRATIO       B  LSTAT  \n",
       "0     15.3  396.90   4.98  \n",
       "1     17.8  396.90   9.14  \n",
       "2     17.8  392.83   4.03  \n",
       "3     18.7  394.63   2.94  \n",
       "4     18.7  396.90   5.33  "
      ]
     },
     "execution_count": 70,
     "metadata": {},
     "output_type": "execute_result"
    }
   ],
   "source": [
    "X = pd.DataFrame(boston.data, columns=boston.feature_names)\n",
    "X.head()"
   ]
  },
  {
   "cell_type": "code",
   "execution_count": 71,
   "id": "1882e0f5",
   "metadata": {},
   "outputs": [
    {
     "data": {
      "text/html": [
       "<div>\n",
       "<style scoped>\n",
       "    .dataframe tbody tr th:only-of-type {\n",
       "        vertical-align: middle;\n",
       "    }\n",
       "\n",
       "    .dataframe tbody tr th {\n",
       "        vertical-align: top;\n",
       "    }\n",
       "\n",
       "    .dataframe thead th {\n",
       "        text-align: right;\n",
       "    }\n",
       "</style>\n",
       "<table border=\"1\" class=\"dataframe\">\n",
       "  <thead>\n",
       "    <tr style=\"text-align: right;\">\n",
       "      <th></th>\n",
       "      <th>price</th>\n",
       "    </tr>\n",
       "  </thead>\n",
       "  <tbody>\n",
       "    <tr>\n",
       "      <th>0</th>\n",
       "      <td>24.0</td>\n",
       "    </tr>\n",
       "    <tr>\n",
       "      <th>1</th>\n",
       "      <td>21.6</td>\n",
       "    </tr>\n",
       "    <tr>\n",
       "      <th>2</th>\n",
       "      <td>34.7</td>\n",
       "    </tr>\n",
       "    <tr>\n",
       "      <th>3</th>\n",
       "      <td>33.4</td>\n",
       "    </tr>\n",
       "    <tr>\n",
       "      <th>4</th>\n",
       "      <td>36.2</td>\n",
       "    </tr>\n",
       "  </tbody>\n",
       "</table>\n",
       "</div>"
      ],
      "text/plain": [
       "   price\n",
       "0   24.0\n",
       "1   21.6\n",
       "2   34.7\n",
       "3   33.4\n",
       "4   36.2"
      ]
     },
     "execution_count": 71,
     "metadata": {},
     "output_type": "execute_result"
    }
   ],
   "source": [
    "y = pd.DataFrame(boston.target, columns=['price'])\n",
    "y.head()"
   ]
  },
  {
   "cell_type": "markdown",
   "id": "8eabaa42",
   "metadata": {},
   "source": [
    "Разбейте эти датафреймы на тренировочные (X_train, y_train) и тестовые (X_test, y_test)\n",
    "с помощью функции train_test_split так, чтобы размер тестовой выборки\n",
    "составлял 20% от всех данных, при этом аргумент random_state должен быть равен 42."
   ]
  },
  {
   "cell_type": "code",
   "execution_count": 72,
   "id": "03b9d12b",
   "metadata": {},
   "outputs": [
    {
     "data": {
      "text/plain": [
       "((404, 13), (102, 13), (404, 1), (102, 1))"
      ]
     },
     "execution_count": 72,
     "metadata": {},
     "output_type": "execute_result"
    }
   ],
   "source": [
    "from sklearn.model_selection import train_test_split\n",
    "X_train, X_test, y_train, y_test = train_test_split(X, y, test_size=0.2, random_state=42)\n",
    "\n",
    "X_train.shape, X_test.shape, y_train.shape, y_test.shape"
   ]
  },
  {
   "cell_type": "markdown",
   "id": "f6168ec2",
   "metadata": {},
   "source": [
    "Масштабируйте данные с помощью StandardScaler."
   ]
  },
  {
   "cell_type": "code",
   "execution_count": 73,
   "id": "0dab11d9",
   "metadata": {},
   "outputs": [
    {
     "data": {
      "text/html": [
       "<div>\n",
       "<style scoped>\n",
       "    .dataframe tbody tr th:only-of-type {\n",
       "        vertical-align: middle;\n",
       "    }\n",
       "\n",
       "    .dataframe tbody tr th {\n",
       "        vertical-align: top;\n",
       "    }\n",
       "\n",
       "    .dataframe thead th {\n",
       "        text-align: right;\n",
       "    }\n",
       "</style>\n",
       "<table border=\"1\" class=\"dataframe\">\n",
       "  <thead>\n",
       "    <tr style=\"text-align: right;\">\n",
       "      <th></th>\n",
       "      <th>CRIM</th>\n",
       "      <th>ZN</th>\n",
       "      <th>INDUS</th>\n",
       "      <th>CHAS</th>\n",
       "      <th>NOX</th>\n",
       "      <th>RM</th>\n",
       "      <th>AGE</th>\n",
       "      <th>DIS</th>\n",
       "      <th>RAD</th>\n",
       "      <th>TAX</th>\n",
       "      <th>PTRATIO</th>\n",
       "      <th>B</th>\n",
       "      <th>LSTAT</th>\n",
       "    </tr>\n",
       "  </thead>\n",
       "  <tbody>\n",
       "    <tr>\n",
       "      <th>0</th>\n",
       "      <td>1.694865</td>\n",
       "      <td>0.000000</td>\n",
       "      <td>2.628491</td>\n",
       "      <td>0.0</td>\n",
       "      <td>5.222922</td>\n",
       "      <td>7.485465</td>\n",
       "      <td>3.479940</td>\n",
       "      <td>0.986899</td>\n",
       "      <td>2.797502</td>\n",
       "      <td>4.012849</td>\n",
       "      <td>9.074814</td>\n",
       "      <td>3.821411</td>\n",
       "      <td>3.507672</td>\n",
       "    </tr>\n",
       "    <tr>\n",
       "      <th>1</th>\n",
       "      <td>0.070779</td>\n",
       "      <td>0.000000</td>\n",
       "      <td>1.182095</td>\n",
       "      <td>0.0</td>\n",
       "      <td>4.576437</td>\n",
       "      <td>8.233447</td>\n",
       "      <td>2.020726</td>\n",
       "      <td>2.113421</td>\n",
       "      <td>0.466250</td>\n",
       "      <td>1.849767</td>\n",
       "      <td>9.434213</td>\n",
       "      <td>4.325931</td>\n",
       "      <td>1.192693</td>\n",
       "    </tr>\n",
       "    <tr>\n",
       "      <th>2</th>\n",
       "      <td>0.003910</td>\n",
       "      <td>1.513591</td>\n",
       "      <td>0.880036</td>\n",
       "      <td>0.0</td>\n",
       "      <td>3.724947</td>\n",
       "      <td>8.511471</td>\n",
       "      <td>0.833326</td>\n",
       "      <td>3.119769</td>\n",
       "      <td>0.116563</td>\n",
       "      <td>1.831691</td>\n",
       "      <td>7.592295</td>\n",
       "      <td>3.961045</td>\n",
       "      <td>1.102572</td>\n",
       "    </tr>\n",
       "    <tr>\n",
       "      <th>3</th>\n",
       "      <td>0.795393</td>\n",
       "      <td>0.000000</td>\n",
       "      <td>2.628491</td>\n",
       "      <td>0.0</td>\n",
       "      <td>5.222922</td>\n",
       "      <td>8.613084</td>\n",
       "      <td>3.043606</td>\n",
       "      <td>0.949832</td>\n",
       "      <td>2.797502</td>\n",
       "      <td>4.012849</td>\n",
       "      <td>9.074814</td>\n",
       "      <td>0.027555</td>\n",
       "      <td>3.279554</td>\n",
       "    </tr>\n",
       "    <tr>\n",
       "      <th>4</th>\n",
       "      <td>0.081881</td>\n",
       "      <td>0.000000</td>\n",
       "      <td>1.182095</td>\n",
       "      <td>0.0</td>\n",
       "      <td>4.576437</td>\n",
       "      <td>8.082440</td>\n",
       "      <td>2.485671</td>\n",
       "      <td>1.783577</td>\n",
       "      <td>0.466250</td>\n",
       "      <td>1.849767</td>\n",
       "      <td>9.434213</td>\n",
       "      <td>4.274867</td>\n",
       "      <td>1.588380</td>\n",
       "    </tr>\n",
       "  </tbody>\n",
       "</table>\n",
       "</div>"
      ],
      "text/plain": [
       "       CRIM        ZN     INDUS  CHAS       NOX        RM       AGE       DIS  \\\n",
       "0  1.694865  0.000000  2.628491   0.0  5.222922  7.485465  3.479940  0.986899   \n",
       "1  0.070779  0.000000  1.182095   0.0  4.576437  8.233447  2.020726  2.113421   \n",
       "2  0.003910  1.513591  0.880036   0.0  3.724947  8.511471  0.833326  3.119769   \n",
       "3  0.795393  0.000000  2.628491   0.0  5.222922  8.613084  3.043606  0.949832   \n",
       "4  0.081881  0.000000  1.182095   0.0  4.576437  8.082440  2.485671  1.783577   \n",
       "\n",
       "        RAD       TAX   PTRATIO         B     LSTAT  \n",
       "0  2.797502  4.012849  9.074814  3.821411  3.507672  \n",
       "1  0.466250  1.849767  9.434213  4.325931  1.192693  \n",
       "2  0.116563  1.831691  7.592295  3.961045  1.102572  \n",
       "3  2.797502  4.012849  9.074814  0.027555  3.279554  \n",
       "4  0.466250  1.849767  9.434213  4.274867  1.588380  "
      ]
     },
     "execution_count": 73,
     "metadata": {},
     "output_type": "execute_result"
    }
   ],
   "source": [
    "from sklearn.preprocessing import StandardScaler\n",
    "\n",
    "scaler = StandardScaler(with_mean=False)\n",
    "\n",
    "X_train_scaled = scaler.fit_transform(X_train)\n",
    "X_test_scaled = scaler.transform(X_test)\n",
    "\n",
    "X_train_scaled = pd.DataFrame(X_train_scaled, columns=X_train.columns)\n",
    "X_test_scaled = pd.DataFrame(X_test_scaled, columns=X_test.columns)\n",
    "\n",
    "X_train_scaled.head()"
   ]
  },
  {
   "cell_type": "code",
   "execution_count": 74,
   "id": "cf71ef4c",
   "metadata": {},
   "outputs": [
    {
     "data": {
      "text/html": [
       "<div>\n",
       "<style scoped>\n",
       "    .dataframe tbody tr th:only-of-type {\n",
       "        vertical-align: middle;\n",
       "    }\n",
       "\n",
       "    .dataframe tbody tr th {\n",
       "        vertical-align: top;\n",
       "    }\n",
       "\n",
       "    .dataframe thead th {\n",
       "        text-align: right;\n",
       "    }\n",
       "</style>\n",
       "<table border=\"1\" class=\"dataframe\">\n",
       "  <thead>\n",
       "    <tr style=\"text-align: right;\">\n",
       "      <th></th>\n",
       "      <th>CRIM</th>\n",
       "      <th>ZN</th>\n",
       "      <th>INDUS</th>\n",
       "      <th>CHAS</th>\n",
       "      <th>NOX</th>\n",
       "      <th>RM</th>\n",
       "      <th>AGE</th>\n",
       "      <th>DIS</th>\n",
       "      <th>RAD</th>\n",
       "      <th>TAX</th>\n",
       "      <th>PTRATIO</th>\n",
       "      <th>B</th>\n",
       "      <th>LSTAT</th>\n",
       "    </tr>\n",
       "  </thead>\n",
       "  <tbody>\n",
       "    <tr>\n",
       "      <th>0</th>\n",
       "      <td>0.010354</td>\n",
       "      <td>0.000000</td>\n",
       "      <td>0.588143</td>\n",
       "      <td>0.000000</td>\n",
       "      <td>4.338258</td>\n",
       "      <td>9.054816</td>\n",
       "      <td>3.007841</td>\n",
       "      <td>1.243219</td>\n",
       "      <td>0.582813</td>\n",
       "      <td>1.783488</td>\n",
       "      <td>7.457520</td>\n",
       "      <td>4.324619</td>\n",
       "      <td>1.272957</td>\n",
       "    </tr>\n",
       "    <tr>\n",
       "      <th>1</th>\n",
       "      <td>0.006367</td>\n",
       "      <td>1.729819</td>\n",
       "      <td>0.930864</td>\n",
       "      <td>3.874063</td>\n",
       "      <td>3.802355</td>\n",
       "      <td>9.537476</td>\n",
       "      <td>1.176670</td>\n",
       "      <td>1.915637</td>\n",
       "      <td>0.466250</td>\n",
       "      <td>1.530426</td>\n",
       "      <td>7.906769</td>\n",
       "      <td>4.339928</td>\n",
       "      <td>0.497073</td>\n",
       "    </tr>\n",
       "    <tr>\n",
       "      <th>2</th>\n",
       "      <td>0.011929</td>\n",
       "      <td>0.000000</td>\n",
       "      <td>4.028417</td>\n",
       "      <td>0.000000</td>\n",
       "      <td>5.180390</td>\n",
       "      <td>8.443729</td>\n",
       "      <td>3.533587</td>\n",
       "      <td>0.877624</td>\n",
       "      <td>0.466250</td>\n",
       "      <td>4.283988</td>\n",
       "      <td>9.029889</td>\n",
       "      <td>4.265682</td>\n",
       "      <td>2.544506</td>\n",
       "    </tr>\n",
       "    <tr>\n",
       "      <th>3</th>\n",
       "      <td>0.010338</td>\n",
       "      <td>0.000000</td>\n",
       "      <td>1.569834</td>\n",
       "      <td>0.000000</td>\n",
       "      <td>3.513138</td>\n",
       "      <td>8.559455</td>\n",
       "      <td>0.278967</td>\n",
       "      <td>2.483948</td>\n",
       "      <td>0.466250</td>\n",
       "      <td>1.837716</td>\n",
       "      <td>8.625566</td>\n",
       "      <td>4.274430</td>\n",
       "      <td>0.777292</td>\n",
       "    </tr>\n",
       "    <tr>\n",
       "      <th>4</th>\n",
       "      <td>0.574248</td>\n",
       "      <td>0.000000</td>\n",
       "      <td>2.628491</td>\n",
       "      <td>0.000000</td>\n",
       "      <td>6.065055</td>\n",
       "      <td>8.886873</td>\n",
       "      <td>3.283232</td>\n",
       "      <td>1.112569</td>\n",
       "      <td>2.797502</td>\n",
       "      <td>4.012849</td>\n",
       "      <td>9.074814</td>\n",
       "      <td>4.210790</td>\n",
       "      <td>2.431855</td>\n",
       "    </tr>\n",
       "  </tbody>\n",
       "</table>\n",
       "</div>"
      ],
      "text/plain": [
       "       CRIM        ZN     INDUS      CHAS       NOX        RM       AGE  \\\n",
       "0  0.010354  0.000000  0.588143  0.000000  4.338258  9.054816  3.007841   \n",
       "1  0.006367  1.729819  0.930864  3.874063  3.802355  9.537476  1.176670   \n",
       "2  0.011929  0.000000  4.028417  0.000000  5.180390  8.443729  3.533587   \n",
       "3  0.010338  0.000000  1.569834  0.000000  3.513138  8.559455  0.278967   \n",
       "4  0.574248  0.000000  2.628491  0.000000  6.065055  8.886873  3.283232   \n",
       "\n",
       "        DIS       RAD       TAX   PTRATIO         B     LSTAT  \n",
       "0  1.243219  0.582813  1.783488  7.457520  4.324619  1.272957  \n",
       "1  1.915637  0.466250  1.530426  7.906769  4.339928  0.497073  \n",
       "2  0.877624  0.466250  4.283988  9.029889  4.265682  2.544506  \n",
       "3  2.483948  0.466250  1.837716  8.625566  4.274430  0.777292  \n",
       "4  1.112569  2.797502  4.012849  9.074814  4.210790  2.431855  "
      ]
     },
     "execution_count": 74,
     "metadata": {},
     "output_type": "execute_result"
    }
   ],
   "source": [
    "X_test_scaled.head()"
   ]
  },
  {
   "cell_type": "markdown",
   "id": "f54efada",
   "metadata": {},
   "source": [
    "Постройте модель TSNE на тренировочный данных с параметрами:\n",
    "n_components=2, learning_rate=250, random_state=42."
   ]
  },
  {
   "cell_type": "code",
   "execution_count": 75,
   "id": "78b9f7e0",
   "metadata": {},
   "outputs": [
    {
     "data": {
      "text/plain": [
       "array([[ 18.104149 ,  29.184141 ],\n",
       "       [  3.3644612,  -7.9096684],\n",
       "       [-20.716751 ,  -8.947255 ],\n",
       "       [ 27.654587 ,  26.63646  ],\n",
       "       [  4.3594193,  -7.4392295],\n",
       "       [-11.870867 ,  -3.1969652],\n",
       "       [ -9.884218 ,  -3.1191561],\n",
       "       [-26.781433 , -15.031116 ],\n",
       "       [ 28.505983 ,  27.472929 ],\n",
       "       [ 29.786797 ,  24.498985 ],\n",
       "       [-10.329162 ,  -2.7037444],\n",
       "       [ -6.0654535,  -9.15263  ],\n",
       "       [ -5.617904 , -13.584176 ],\n",
       "       [ 28.621098 ,  24.620079 ],\n",
       "       [ -7.1150546, -14.5416355]], dtype=float32)"
      ]
     },
     "execution_count": 75,
     "metadata": {},
     "output_type": "execute_result"
    }
   ],
   "source": [
    "from sklearn.manifold import TSNE\n",
    "\n",
    "tsne = TSNE(n_components=2, learning_rate=250, random_state=42)\n",
    "\n",
    "X_train_tsne = tsne.fit_transform(X_train_scaled)\n",
    "\n",
    "X_train_tsne[:15]"
   ]
  },
  {
   "cell_type": "markdown",
   "id": "cbc955bf",
   "metadata": {},
   "source": [
    "Постройте диаграмму рассеяния на этих данных."
   ]
  },
  {
   "cell_type": "code",
   "execution_count": 76,
   "id": "b05cf989",
   "metadata": {},
   "outputs": [
    {
     "data": {
      "text/plain": [
       "<matplotlib.collections.PathCollection at 0x7fca2ddb9970>"
      ]
     },
     "execution_count": 76,
     "metadata": {},
     "output_type": "execute_result"
    },
    {
     "data": {
      "image/png": "[encoded data removed]",
      "text/plain": [
       "<Figure size 432x288 with 1 Axes>"
      ]
     },
     "metadata": {
      "needs_background": "light"
     },
     "output_type": "display_data"
    }
   ],
   "source": [
    "plt.scatter(X_train_tsne[:,0], X_train_tsne[:,1])"
   ]
  },
  {
   "cell_type": "markdown",
   "id": "3c2c2b08",
   "metadata": {},
   "source": [
    "### Задание 2\n",
    "\n",
    "С помощью KMeans разбейте данные из тренировочного набора на 3 кластера, используйте все признаки из датафрейма X_train.\n",
    "Параметр max_iter должен быть равен 100, random_state сделайте равным 42."
   ]
  },
  {
   "cell_type": "code",
   "execution_count": 77,
   "id": "9ebbf072",
   "metadata": {},
   "outputs": [
    {
     "data": {
      "text/plain": [
       "2    191\n",
       "1    127\n",
       "0     86\n",
       "dtype: int64"
      ]
     },
     "execution_count": 77,
     "metadata": {},
     "output_type": "execute_result"
    }
   ],
   "source": [
    "from sklearn.cluster import KMeans\n",
    "\n",
    "kmeans = KMeans(n_clusters=3, max_iter=100, random_state=42)\n",
    "\n",
    "labels_train = kmeans.fit_predict(X_train_scaled)\n",
    "\n",
    "pd.value_counts(labels_train)"
   ]
  },
  {
   "cell_type": "markdown",
   "id": "941f6f20",
   "metadata": {},
   "source": [
    "Постройте еще раз диаграмму рассеяния на данных, полученных с помощью TSNE, и раскрасьте точки из разных кластеров разными цветами."
   ]
  },
  {
   "cell_type": "code",
   "execution_count": 78,
   "id": "b197ccb2",
   "metadata": {},
   "outputs": [
    {
     "data": {
      "text/plain": [
       "<matplotlib.collections.PathCollection at 0x7fca2dc7b520>"
      ]
     },
     "execution_count": 78,
     "metadata": {},
     "output_type": "execute_result"
    },
    {
     "data": {
      "image/png": "[encoded data removed]",
      "text/plain": [
       "<Figure size 432x288 with 1 Axes>"
      ]
     },
     "metadata": {
      "needs_background": "light"
     },
     "output_type": "display_data"
    }
   ],
   "source": [
    "plt.scatter(X_train_tsne[:,0], X_train_tsne[:,1], c=labels_train)"
   ]
  },
  {
   "cell_type": "markdown",
   "id": "28ee543d",
   "metadata": {},
   "source": [
    "Вычислите средние значения price и CRIM в разных кластерах."
   ]
  },
  {
   "cell_type": "code",
   "execution_count": 79,
   "id": "306cbd78",
   "metadata": {},
   "outputs": [
    {
     "name": "stdout",
     "output_type": "stream",
     "text": [
      "     price\tCRIM\n",
      "\n",
      "0:   27.79\t0.07\n",
      "1:   16.17\t10.8\n",
      "2:   24.96\t0.42\n"
     ]
    }
   ],
   "source": [
    "m_for_train = {}\n",
    "for i in range(0,3):\n",
    "    m_for_train[i] = [round(y_train[labels_train == i].mean()[0], 2), round(X_train.loc[(labels_train == i), \"CRIM\"].mean(), 2)]\n",
    "\n",
    "print('     price\\tCRIM\\n')\n",
    "for i in range(0,3):\n",
    "    print(f'{i}:   {m_for_train[i][0]}\\t{m_for_train[i][1]}')"
   ]
  },
  {
   "cell_type": "markdown",
   "id": "b6963dbf",
   "metadata": {},
   "source": [
    "### *Задание 3\n",
    "\n",
    "Примените модель KMeans, построенную в предыдущем задании,\n",
    "к данным из тестового набора.\n",
    "Вычислите средние значения price и CRIM в разных кластерах на тестовых данных."
   ]
  },
  {
   "cell_type": "code",
   "execution_count": 80,
   "id": "4e7f9a4e",
   "metadata": {},
   "outputs": [
    {
     "name": "stdout",
     "output_type": "stream",
     "text": [
      "     price\tCRIM\n",
      "\n",
      "0:   31.35\t0.06\n",
      "1:   16.44\t10.17\n",
      "2:   21.86\t0.27\n"
     ]
    }
   ],
   "source": [
    "labels_test = kmeans.predict(X_test_scaled)\n",
    "\n",
    "m_for_test = {}\n",
    "for i in range(0,3):\n",
    "    m_for_test[i] = [round(y_test[labels_test == i].mean()[0], 2), round(X_test.loc[(labels_test == i), \"CRIM\"].mean(), 2)]\n",
    "    \n",
    "print('     price\\tCRIM\\n')\n",
    "for i in range(0,3):\n",
    "    print(f'{i}:   {m_for_test[i][0]}\\t{m_for_test[i][1]}')"
   ]
  }
 ],
 "metadata": {
  "kernelspec": {
   "display_name": "Python 3 (ipykernel)",
   "language": "python",
   "name": "python3"
  },
  "language_info": {
   "codemirror_mode": {
    "name": "ipython",
    "version": 3
   },
   "file_extension": ".py",
   "mimetype": "text/x-python",
   "name": "python",
   "nbconvert_exporter": "python",
   "pygments_lexer": "ipython3",
   "version": "3.9.12"
  }
 },
 "nbformat": 4,
 "nbformat_minor": 5
}
